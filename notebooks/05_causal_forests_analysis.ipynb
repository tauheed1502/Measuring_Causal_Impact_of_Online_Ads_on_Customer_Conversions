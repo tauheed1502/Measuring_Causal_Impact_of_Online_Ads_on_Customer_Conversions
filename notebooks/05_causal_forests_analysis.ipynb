{
 "cells": [
  {
   "cell_type": "markdown",
   "metadata": {},
   "source": [
    "# Causal Forest Analysis\n",
    "\n",
    "Heterogeneous treatment effects using Causal Forests"
   ]
  },
  {
   "cell_type": "code",
   "execution_count": null,
   "metadata": {},
   "outputs": [],
   "source": [
    "import sys\n",
    "sys.path.append('..')\n",
    "\n",
    "import pandas as pd\n",
    "import numpy as np\n",
    "import matplotlib.pyplot as plt\n",
    "from src.models.causal_forest import fit_causal_forest\n",
    "\n",
    "# Load data\n",
    "df = pd.read_csv('../data/processed/preprocessed_ad_data.csv')\n",
    "confounders = pd.read_csv('../data/processed/confounders.csv')['confounder'].tolist()\n",
    "\n",
    "print(f\"Dataset: {len(df)} observations, {len(confounders)} confounders\")"
   ]
  },
  {
   "cell_type": "code",
   "execution_count": null,
   "metadata": {},
   "outputs": [],
   "source": [
    "# Fit causal forest\n",
    "cf_results = fit_causal_forest(df, confounders[:10])  # Use top 10 confounders for speed\n",
    "\n",
    "print(\"=== CAUSAL FOREST RESULTS ===\")\n",
    "print(f\"Average Treatment Effect: {cf_results['ate']:.4f} ± {cf_results['ate_se']:.4f}\")\n",
    "print(f\"95% CI: [{cf_results['ate_ci_lower']:.4f}, {cf_results['ate_ci_upper']:.4f}]\")\n",
    "print(f\"Heterogeneity p-value: {cf_results['heterogeneity_pvalue']:.4f}\")\n",
    "\n",
    "treatment_effects = cf_results['treatment_effects']\n",
    "print(f\"\\nEffect Range: [{treatment_effects.min():.4f}, {treatment_effects.max():.4f}]\")\n",
    "print(f\"Effect Std Dev: {treatment_effects.std():.4f}\")"
   ]
  },
  {
   "cell_type": "code",
   "execution_count": null,
   "metadata": {},
   "outputs": [],
   "source": [
    "# Visualize treatment effects\n",
    "fig, axes = plt.subplots(1, 3, figsize=(15, 5))\n",
    "\n",
    "# Distribution of individual effects\n",
    "axes[0].hist(treatment_effects, bins=30, alpha=0.7, color='skyblue')\n",
    "axes[0].axvline(cf_results['ate'], color='red', linestyle='--', label=f'ATE = {cf_results[\"ate\"]:.4f}')\n",
    "axes[0].set_title('Treatment Effect Distribution')\n",
    "axes[0].legend()\n",
    "\n",
    "# Effects by age quartiles\n",
    "df['treatment_effect'] = treatment_effects\n",
    "df['age_quartile'] = pd.qcut(df['age'], q=4, labels=['Q1', 'Q2', 'Q3', 'Q4'])\n",
    "age_effects = df.groupby('age_quartile')['treatment_effect'].mean()\n",
    "\n",
    "axes[1].bar(age_effects.index, age_effects.values, alpha=0.8, color='lightcoral')\n",
    "axes[1].set_title('Effects by Age Quartile')\n",
    "axes[1].set_ylabel('Average Treatment Effect')\n",
    "\n",
    "# Effects by income quartiles\n",
    "df['income_quartile'] = pd.qcut(df['income'], q=4, labels=['Q1', 'Q2', 'Q3', 'Q4'])\n",
    "income_effects = df.groupby('income_quartile')['treatment_effect'].mean()\n",
    "\n",
    "axes[2].bar(income_effects.index, income_effects.values, alpha=0.8, color='lightgreen')\n",
    "axes[2].set_title('Effects by Income Quartile')\n",
    "axes[2].set_ylabel('Average Treatment Effect')\n",
    "\n",
    "plt.tight_layout()\n",
    "plt.show()"
   ]
  },
  {
   "cell_type": "code",
   "execution_count": null,
   "metadata": {},
   "outputs": [],
   "source": [
    "# Targeting recommendations\n",
    "high_responders = treatment_effects >= np.percentile(treatment_effects, 75)\n",
    "low_responders = treatment_effects <= np.percentile(treatment_effects, 25)\n",
    "\n",
    "print(\"=== TARGETING RECOMMENDATIONS ===\")\n",
    "print(f\"High Responders (Top 25%): {high_responders.sum()} users\")\n",
    "print(f\"  Average Effect: {treatment_effects[high_responders].mean():.4f}\")\n",
    "print(f\"  Recommendation: Premium targeting\")\n",
    "\n",
    "print(f\"\\nLow Responders (Bottom 25%): {low_responders.sum()} users\")\n",
    "print(f\"  Average Effect: {treatment_effects[low_responders].mean():.4f}\")\n",
    "print(f\"  Recommendation: Reduce or exclude from campaigns\")\n",
    "\n",
    "# Profile differences\n",
    "print(f\"\\n📊 HIGH-VALUE SEGMENT PROFILE:\")\n",
    "for var in ['age', 'income', 'website_visits']:\n",
    "    if var in df.columns:\n",
    "        high_val_mean = df[high_responders][var].mean()\n",
    "        overall_mean = df[var].mean()\n",
    "        diff_pct = (high_val_mean - overall_mean) / overall_mean * 100\n",
    "        print(f\"  {var.title()}: {high_val_mean:.1f} ({diff_pct:+.1f}% vs overall)\")\n",
    "\n",
    "# Save results\n",
    "import pickle\n",
    "with open('../results/causal_forest_results.pkl', 'wb') as f:\n",
    "    pickle.dump(cf_results, f)\n",
    "print(\"\\n✅ Results saved\")"
   ]
  }
 ],
 "metadata": {
  "kernelspec": {
   "display_name": "Python 3",
   "language": "python",
   "name": "python3"
  }
 },
 "nbformat": 4,
 "nbformat_minor": 4
}
