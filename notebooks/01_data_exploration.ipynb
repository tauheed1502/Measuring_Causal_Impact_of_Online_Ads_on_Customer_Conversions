{
 "cells": [
  {
   "cell_type": "markdown",
   "metadata": {},
   "source": [
    "# Data Exploration for Causal Ad Impact Analysis\n",
    "\n",
    "This notebook explores the ad clickstream dataset to understand:\n",
    "- Data quality and completeness\n",
    "- Treatment assignment patterns\n",
    "- Outcome distributions\n",
    "- Potential confounders"
   ]
  },
  {
   "cell_type": "code",
   "execution_count": null,
   "metadata": {},
   "outputs": [],
   "source": [
    "import sys\n",
    "sys.path.append('..')\n",
    "\n",
    "import pandas as pd\n",
    "import numpy as np\n",
    "import matplotlib.pyplot as plt\n",
    "import seaborn as sns\n",
    "from src.data.data_loader import simulate_ad_data, load_benchmark_dataset\n",
    "from src.data.preprocessing import balance_check\n",
    "\n",
    "# Set style\n",
    "plt.style.use('seaborn-v0_8')\n",
    "sns.set_palette(\"husl\")\n",
    "\n",
    "# Load data\n",
    "df = simulate_ad_data(n_samples=15000, seed=42)\n",
    "print(f\"Dataset shape: {df.shape}\")\n",
    "df.head()"
   ]
  },
  {
   "cell_type": "markdown",
   "metadata": {},
   "source": [
    "## Data Quality Assessment"
   ]
  },
  {
   "cell_type": "code",
   "execution_count": null,
   "metadata": {},
   "outputs": [],
   "source": [
    "# Basic statistics\n",
    "print(\"=== DATASET OVERVIEW ===\")\n",
    "print(f\"Total records: {len(df):,}\")\n",
    "print(f\"Features: {df.shape[1]}\")\n",
    "print(f\"Missing values: {df.isnull().sum().sum()}\")\n",
    "\n",
    "print(\"\\n=== TREATMENT ASSIGNMENT ===\")\n",
    "treatment_dist = df['treatment'].value_counts()\n",
    "print(f\"Control (0): {treatment_dist[0]:,} ({treatment_dist[0]/len(df)*100:.1f}%)\")\n",
    "print(f\"Treatment (1): {treatment_dist[1]:,} ({treatment_dist[1]/len(df)*100:.1f}%)\")\n",
    "\n",
    "print(\"\\n=== OUTCOME DISTRIBUTION ===\")\n",
    "conversion_by_treatment = df.groupby('treatment')['conversion'].agg(['count', 'mean', 'std'])\n",
    "print(conversion_by_treatment)\n",
    "\n",
    "# Naive treatment effect\n",
    "naive_effect = df[df['treatment']==1]['conversion'].mean() - df[df['treatment']==0]['conversion'].mean()\n",
    "print(f\"\\nNaive treatment effect: {naive_effect:.4f}\")\n",
    "print(f\"True treatment effect: {df['true_effect'].iloc[0]:.4f}\")"
   ]
  },
  {
   "cell_type": "markdown",
   "metadata": {},
   "source": [
    "## Exploratory Visualizations"
   ]
  },
  {
   "cell_type": "code",
   "execution_count": null,
   "metadata": {},
   "outputs": [],
   "source": [
    "# Create visualization grid\n",
    "fig, axes = plt.subplots(2, 3, figsize=(18, 12))\n",
    "fig.suptitle('Ad Clickstream Data Exploration', fontsize=16)\n",
    "\n",
    "# 1. Age distribution by treatment\n",
    "df[df['treatment']==0]['age'].hist(alpha=0.7, bins=30, ax=axes[0,0], label='Control', color='blue')\n",
    "df[df['treatment']==1]['age'].hist(alpha=0.7, bins=30, ax=axes[0,0], label='Treatment', color='red')\n",
    "axes[0,0].set_title('Age Distribution by Treatment Group')\n",
    "axes[0,0].set_xlabel('Age')\n",
    "axes[0,0].legend()\n",
    "\n",
    "# 2. Income distribution by treatment\n",
    "df[df['treatment']==0]['income'].hist(alpha=0.7, bins=30, ax=axes[0,1], label='Control', color='blue')\n",
    "df[df['treatment']==1]['income'].hist(alpha=0.7, bins=30, ax=axes[0,1], label='Treatment', color='red')\n",
    "axes[0,1].set_title('Income Distribution by Treatment Group')\n",
    "axes[0,1].set_xlabel('Income')\n",
    "axes[0,1].legend()\n",
    "\n",
    "# 3. Website visits by treatment\n",
    "website_visits_summary = df.groupby(['treatment', 'website_visits']).size().unstack(fill_value=0)\n",
    "website_visits_summary.plot(kind='bar', ax=axes[0,2], alpha=0.8)\n",
    "axes[0,2].set_title('Website Visits by Treatment')\n",
    "axes[0,2].set_xlabel('Treatment Group')\n",
    "\n",
    "# 4. Conversion rate by age groups\n",
    "df['age_group'] = pd.cut(df['age'], bins=[0, 25, 35, 50, 100], labels=['18-25', '26-35', '36-50', '50+'])\n",
    "conv_by_age = df.groupby(['age_group', 'treatment'])['conversion'].mean().unstack()\n",
    "conv_by_age.plot(kind='bar', ax=axes[1,0], alpha=0.8)\n",
    "axes[1,0].set_title('Conversion Rate by Age Group')\n",
    "axes[1,0].set_ylabel('Conversion Rate')\n",
    "\n",
    "# 5. Propensity score distribution\n",
    "df['true_propensity'].hist(bins=30, ax=axes[1,1], alpha=0.7, color='green')\n",
    "axes[1,1].set_title('True Propensity Score Distribution')\n",
    "axes[1,1].set_xlabel('Propensity Score')\n",
    "\n",
    "# 6. Correlation heatmap\n",
    "corr_cols = ['age', 'income', 'website_visits', 'past_purchases', 'treatment', 'conversion']\n",
    "corr_matrix = df[corr_cols].corr()\n",
    "sns.heatmap(corr_matrix, annot=True, cmap='coolwarm', center=0, ax=axes[1,2])\n",
    "axes[1,2].set_title('Feature Correlation Matrix')\n",
    "\n",
    "plt.tight_layout()\n",
    "plt.show()"
   ]
  },
  {
   "cell_type": "markdown",
   "metadata": {},
   "source": [
    "## Covariate Balance Analysis"
   ]
  },
  {
   "cell_type": "code",
   "execution_count": null,
   "metadata": {},
   "outputs": [],
   "source": [
    "# Check covariate balance\n",
    "balance_stats = balance_check(df, 'treatment')\n",
    "\n",
    "print(\"=== COVARIATE BALANCE ASSESSMENT ===\")\n",
    "print(\"Variables with significant imbalance (|SMD| > 0.1):\")\n",
    "imbalanced = balance_stats[balance_stats['imbalanced'] == True]\n",
    "for _, row in imbalanced.iterrows():\n",
    "    print(f\"  {row['variable']}: SMD = {row['standardized_mean_diff']:.3f}\")\n",
    "\n",
    "print(f\"\\nTotal imbalanced variables: {len(imbalanced)} out of {len(balance_stats)}\")\n",
    "\n",
    "# Visualize balance\n",
    "plt.figure(figsize=(12, 6))\n",
    "variables = balance_stats['variable'][:8]  # Top 8 variables\n",
    "smds = balance_stats['standardized_mean_diff'][:8]\n",
    "\n",
    "colors = ['red' if abs(smd) > 0.1 else 'green' for smd in smds]\n",
    "bars = plt.barh(variables, smds, color=colors, alpha=0.7)\n",
    "\n",
    "plt.axvline(x=0.1, color='red', linestyle='--', alpha=0.7, label='Imbalance Threshold')\n",
    "plt.axvline(x=-0.1, color='red', linestyle='--', alpha=0.7)\n",
    "plt.axvline(x=0, color='black', linestyle='-', alpha=0.5)\n",
    "\n",
    "plt.xlabel('Standardized Mean Difference')\n",
    "plt.title('Covariate Balance Before Matching')\n",
    "plt.legend()\n",
    "plt.grid(True, alpha=0.3)\n",
    "plt.tight_layout()\n",
    "plt.show()"
   ]
  },
  {
   "cell_type": "markdown",
   "metadata": {},
   "source": [
    "## Treatment Assignment Mechanism"
   ]
  },
  {
   "cell_type": "code",
   "execution_count": null,
   "metadata": {},
   "outputs": [],
   "source": [
    "# Analyze treatment assignment patterns\n",
    "print(\"=== TREATMENT ASSIGNMENT ANALYSIS ===\")\n",
    "\n",
    "# Treatment probability by characteristics\n",
    "fig, axes = plt.subplots(1, 3, figsize=(18, 5))\n",
    "\n",
    "# By age groups\n",
    "treat_by_age = df.groupby('age_group')['treatment'].mean()\n",
    "treat_by_age.plot(kind='bar', ax=axes[0], alpha=0.8, color='skyblue')\n",
    "axes[0].set_title('Treatment Probability by Age Group')\n",
    "axes[0].set_ylabel('Treatment Probability')\n",
    "axes[0].tick_params(axis='x', rotation=45)\n",
    "\n",
    "# By income quartiles\n",
    "df['income_quartile'] = pd.qcut(df['income'], q=4, labels=['Q1', 'Q2', 'Q3', 'Q4'])\n",
    "treat_by_income = df.groupby('income_quartile')['treatment'].mean()\n",
    "treat_by_income.plot(kind='bar', ax=axes[1], alpha=0.8, color='lightcoral')\n",
    "axes[1].set_title('Treatment Probability by Income Quartile')\n",
    "axes[1].set_ylabel('Treatment Probability')\n",
    "axes[1].tick_params(axis='x', rotation=45)\n",
    "\n",
    "# By website visits\n",
    "treat_by_visits = df.groupby('website_visits')['treatment'].mean()\n",
    "treat_by_visits.plot(ax=axes[2], marker='o', alpha=0.8, color='green')\n",
    "axes[2].set_title('Treatment Probability by Website Visits')\n",
    "axes[2].set_xlabel('Website Visits')\n",
    "axes[2].set_ylabel('Treatment Probability')\n",
    "\n",
    "plt.tight_layout()\n",
    "plt.show()\n",
    "\n",
    "# Summary statistics\n",
    "print(\"\\nTreatment assignment is clearly non-random!\")\n",
    "print(\"Key patterns observed:\")\n",
    "print(f\"- Older users more likely to receive treatment: {treat_by_age.corr(pd.Series([1,2,3,4])):.3f} correlation\")\n",
    "print(f\"- Higher income users more likely to receive treatment\")\n",
    "print(f\"- Users with more website visits more likely to receive treatment\")"
   ]
  },
  {
   "cell_type": "markdown",
   "metadata": {},
   "source": [
    "## Key Insights for Causal Analysis"
   ]
  },
  {
   "cell_type": "code",
   "execution_count": null,
   "metadata": {},
   "outputs": [],
   "source": [
    "print(\"=== KEY INSIGHTS FOR CAUSAL ANALYSIS ===\")\n",
    "print()\n",
    "print(\"1. SELECTION BIAS DETECTED:\")\n",
    "print(f\"   - Treatment assignment is biased toward older, higher-income users\")\n",
    "print(f\"   - Naive estimate ({naive_effect:.4f}) likely overstates true effect ({df['true_effect'].iloc[0]:.4f})\")\n",
    "print()\n",
    "print(\"2. CONFOUNDING VARIABLES IDENTIFIED:\")\n",
    "print(f\"   - Age, income, website_visits, past_purchases all affect both treatment and outcome\")\n",
    "print(f\"   - {len(imbalanced)} variables show significant imbalance\")\n",
    "print()\n",
    "print(\"3. DATA QUALITY:\")\n",
    "print(f\"   - No missing values\")\n",
    "print(f\"   - Sufficient sample size ({len(df):,} observations)\")\n",
    "print(f\"   - Good treatment/control balance ({df['treatment'].mean():.1%} treated)\")\n",
    "print()\n",
    "print(\"4. RECOMMENDED APPROACH:\")\n",
    "print(\"   - Propensity Score Matching to address selection bias\")\n",
    "print(\"   - Doubly Robust Estimation for robustness\")\n",
    "print(\"   - Causal Forest for heterogeneous effects\")\n",
    "print(\"   - Comprehensive robustness checks\")\n",
    "\n",
    "# Save preprocessed data for next notebooks\n",
    "df.to_csv('../data/processed/explored_ad_data.csv', index=False)\n",
    "print(\"\\n✅ Preprocessed data saved for next analysis steps\")"
   ]
  }
 ],
 "metadata": {
  "kernelspec": {
   "display_name": "Python 3",
   "language": "python",
   "name": "python3"
  }
 },
 "nbformat": 4,
 "nbformat_minor": 4
}
